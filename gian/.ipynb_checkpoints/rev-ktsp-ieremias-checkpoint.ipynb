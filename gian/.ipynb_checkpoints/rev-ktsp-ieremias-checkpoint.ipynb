{
 "cells": [
  {
   "cell_type": "code",
   "execution_count": 1,
   "id": "d2696a57",
   "metadata": {},
   "outputs": [],
   "source": [
    "import gurobipy as gp\n",
    "from gurobipy import GRB"
   ]
  },
  {
   "cell_type": "code",
   "execution_count": null,
   "id": "c02650cc",
   "metadata": {},
   "outputs": [],
   "source": [
    "# tested with Python 3.7 & Gurobi 9.0.0\n",
    "m = gp.Model()\n",
    "\n",
    "# Variables: is city 'i' adjacent to city 'j' on the tour?\n",
    "vars = m.addVars(dist.keys(), obj=dist, vtype=GRB.BINARY, name='x')\n",
    "\n",
    "# TODO adicionar o segundo tuor\n",
    "# TODO adicionar as variáveis D_e\n",
    "\n",
    "# Symmetric direction: Copy the object\n",
    "for i, j in vars.keys():\n",
    "    vars[j, i] = vars[i, j]  # edge in opposite direction\n",
    "\n",
    "# Constraints: two edges incident to each city\n",
    "cons = m.addConstrs(vars.sum(c, '*') == 2 for c in capitals)\n",
    "\n",
    "# TODO adicionar as restrições de D_e\n",
    "\n",
    "# Callback - use lazy constraints to eliminate sub-tours\n",
    "\n",
    "def subtourelim(model, where):\n",
    "    if where == GRB.Callback.MIPSOL:\n",
    "        # make a list of edges selected in the solution\n",
    "        vals = model.cbGetSolution(model._vars)\n",
    "        selected = gp.tuplelist((i, j) for i, j in model._vars.keys()\n",
    "                             if vals[i, j] > 0.5)\n",
    "        # find the shortest cycle in the selected edge list\n",
    "        tour = subtour(selected)\n",
    "        if len(tour) < len(capitals):\n",
    "            # add subtour elimination constr. for every pair of cities in subtour\n",
    "            model.cbLazy(gp.quicksum(model._vars[i, j] for i, j in combinations(tour, 2))\n",
    "                         <= len(tour)-1)\n",
    "\n",
    "# Given a tuplelist of edges, find the shortest subtour\n",
    "\n",
    "def subtour(edges):\n",
    "    unvisited = capitals[:]\n",
    "    cycle = capitals[:] # Dummy - guaranteed to be replaced\n",
    "    while unvisited:  # true if list is non-empty\n",
    "        thiscycle = []\n",
    "        neighbors = unvisited\n",
    "        while neighbors:\n",
    "            current = neighbors[0]\n",
    "            thiscycle.append(current)\n",
    "            unvisited.remove(current)\n",
    "            neighbors = [j for i, j in edges.select(current, '*')\n",
    "                         if j in unvisited]\n",
    "        if len(thiscycle) <= len(cycle):\n",
    "            cycle = thiscycle # New shortest subtour\n",
    "    return cycle\n",
    "\n",
    "m._vars = vars\n",
    "m.Params.lazyConstraints = 1\n",
    "m.optimize(subtourelim)\n",
    "\n",
    "# Retrieve solution\n",
    "\n",
    "vals = m.getAttr('x', vars)\n",
    "selected = gp.tuplelist((i, j) for i, j in vals.keys() if vals[i, j] > 0.5)\n",
    "\n",
    "tour = subtour(selected)\n",
    "assert len(tour) == len(capitals)"
   ]
  },
  {
   "cell_type": "code",
   "execution_count": 48,
   "id": "33371b21",
   "metadata": {},
   "outputs": [],
   "source": [
    "import numpy as np\n",
    "#Ler arquivo\n",
    "coordenadas = open(\"./mo824_atividade2_coords\", \"r\")\n",
    "dimensiones_coordenadas=(250,4)\n",
    "matriz_coordenadas = np.zeros(dimensiones_coordenadas)\n",
    "#Loop de 0 a 250\n",
    "for i in range(dimensiones_coordenadas[0]):\n",
    "    matriz_coordenadas[i] = coordenadas.readline().split()\n",
    "#matriz_coordenadas    "
   ]
  },
  {
   "cell_type": "code",
   "execution_count": 59,
   "id": "36f945f5",
   "metadata": {},
   "outputs": [],
   "source": [
    "#Funçao custo\n",
    "def f_custo(x_i, y_i, x_j, y_j):\n",
    "    return np.sqrt(np.power(x_i-x_j,2)+np.power(y_i-y_j,2))\n",
    "#f_custo(0,3,4,0)"
   ]
  },
  {
   "cell_type": "code",
   "execution_count": 60,
   "id": "27567e08",
   "metadata": {},
   "outputs": [],
   "source": [
    "dimensiones_custos = (250,250)\n",
    "matriz_custos_1 = np.zeros(dimensiones_custos)\n",
    "matriz_custos_2 = np.zeros(dimensiones_custos)\n",
    "for i in range(dimensiones_custos[0]):\n",
    "    for j in range(dimensiones_custos[1]):\n",
    "        if i != j :\n",
    "            matriz_custos_1[i,j] = f_custo(matriz_coordenadas[i,0], matriz_coordenadas[i,1], matriz_coordenadas[j,0], matriz_coordenadas[j,1])\n",
    "            matriz_custos_2[i,j] = f_custo(matriz_coordenadas[i,2], matriz_coordenadas[i,3], matriz_coordenadas[j,2], matriz_coordenadas[j,3])\n",
    "#matriz_custos_1"
   ]
  }
 ],
 "metadata": {
  "kernelspec": {
   "display_name": "Python 3 (ipykernel)",
   "language": "python",
   "name": "python3"
  },
  "language_info": {
   "codemirror_mode": {
    "name": "ipython",
    "version": 3
   },
   "file_extension": ".py",
   "mimetype": "text/x-python",
   "name": "python",
   "nbconvert_exporter": "python",
   "pygments_lexer": "ipython3",
   "version": "3.9.7"
  }
 },
 "nbformat": 4,
 "nbformat_minor": 5
}
